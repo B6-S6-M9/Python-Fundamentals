{
 "cells": [
  {
   "cell_type": "markdown",
   "metadata": {},
   "source": [
    "# PJP Core - Python\n",
    "## Python Fundamentals"
   ]
  },
  {
   "cell_type": "markdown",
   "metadata": {},
   "source": [
    "## Exercises"
   ]
  },
  {
   "cell_type": "markdown",
   "metadata": {},
   "source": [
    " Write a program to check if a given number is Positive, Negative, or Zero."
   ]
  },
  {
   "cell_type": "code",
   "execution_count": 1,
   "metadata": {},
   "outputs": [
    {
     "name": "stdout",
     "output_type": "stream",
     "text": [
      "number is zero\n"
     ]
    }
   ],
   "source": [
    "a = 0\n",
    "\n",
    "if(a == 0):\n",
    "    print('number is zero')\n",
    "elif(a >= 0):\n",
    "    print('number is positive')\n",
    "elif(a <= 0):\n",
    "    print('number is negative')"
   ]
  },
  {
   "cell_type": "markdown",
   "metadata": {},
   "source": [
    " Write a program to check if a given number is odd or even."
   ]
  },
  {
   "cell_type": "code",
   "execution_count": 2,
   "metadata": {},
   "outputs": [
    {
     "name": "stdout",
     "output_type": "stream",
     "text": [
      "number is odd\n"
     ]
    }
   ],
   "source": [
    "a = 231\n",
    "\n",
    "if (a%2 == 0):\n",
    "    print('a is even')\n",
    "else:\n",
    "    print('number is odd')"
   ]
  },
  {
   "cell_type": "markdown",
   "metadata": {},
   "source": [
    "Given two non-negative values, print true if they have the same last digit, such as with 27 and 57.\n",
    " \n",
    "lastDigit(7, 17) → true                                                \n",
    "lastDigit(6, 17) → false\n",
    "\n",
    "lastDigit(3, 113) → true"
   ]
  },
  {
   "cell_type": "code",
   "execution_count": 3,
   "metadata": {},
   "outputs": [
    {
     "name": "stdout",
     "output_type": "stream",
     "text": [
      "numbers have the same last digit\n"
     ]
    }
   ],
   "source": [
    "a = 17\n",
    "b = 27\n",
    "\n",
    "if( a%10 == b%10):\n",
    "    print('numbers have the same last digit')\n",
    "else:\n",
    "    print('numbers have different last digit')"
   ]
  },
  {
   "cell_type": "markdown",
   "metadata": {},
   "source": [
    "\t\n",
    " Write a program to print numbers from 1 to 10 in a single row with one tab space."
   ]
  },
  {
   "cell_type": "code",
   "execution_count": 13,
   "metadata": {},
   "outputs": [
    {
     "name": "stdout",
     "output_type": "stream",
     "text": [
      "1    2    3    4    5    6    7    8    9    10    "
     ]
    }
   ],
   "source": [
    "for i in range(1,11):\n",
    "    print(i, end=\"    \")"
   ]
  },
  {
   "cell_type": "markdown",
   "metadata": {},
   "source": [
    " Write a program to print even numbers between 23 and 57. Each number should be printed in a separate row."
   ]
  },
  {
   "cell_type": "code",
   "execution_count": 5,
   "metadata": {},
   "outputs": [
    {
     "name": "stdout",
     "output_type": "stream",
     "text": [
      "24\n",
      "26\n",
      "28\n",
      "30\n",
      "32\n",
      "34\n",
      "36\n",
      "38\n",
      "40\n",
      "42\n",
      "44\n",
      "46\n",
      "48\n",
      "50\n",
      "52\n",
      "54\n",
      "56\n"
     ]
    }
   ],
   "source": [
    "for i in range(23,58):\n",
    "    if(i%2 == 0):\n",
    "        print(i)"
   ]
  },
  {
   "cell_type": "markdown",
   "metadata": {},
   "source": [
    "\t\n",
    " Write a program to check if a given number is prime or not."
   ]
  },
  {
   "cell_type": "code",
   "execution_count": 6,
   "metadata": {},
   "outputs": [
    {
     "name": "stdout",
     "output_type": "stream",
     "text": [
      "123 is not a prime number"
     ]
    }
   ],
   "source": [
    "a = 123\n",
    "\n",
    "if(a>=1): #condition for 1 to not include in the loop    \n",
    "    for i in range(2,a):\n",
    "        if (a%i == 0): # checking for divisibilty with the numbers from 2 to itself\n",
    "            print(a,end=\" is not a prime number\")\n",
    "            break\n",
    "    else:\n",
    "        print(a,end=\" is a prime number\")\n",
    "\n",
    "else:\n",
    "    print(a,end=\" is a prime number\")"
   ]
  },
  {
   "cell_type": "markdown",
   "metadata": {},
   "source": [
    " Write a program to print prime numbers between 10 and 99."
   ]
  },
  {
   "cell_type": "code",
   "execution_count": 7,
   "metadata": {},
   "outputs": [
    {
     "name": "stdout",
     "output_type": "stream",
     "text": [
      "11\n",
      "13\n",
      "17\n",
      "19\n",
      "23\n",
      "29\n",
      "31\n",
      "37\n",
      "41\n",
      "43\n",
      "47\n",
      "53\n",
      "59\n",
      "61\n",
      "67\n",
      "71\n",
      "73\n",
      "79\n",
      "83\n",
      "89\n",
      "97\n"
     ]
    }
   ],
   "source": [
    "for i in range(10,100): # range for the input numbers\n",
    "    for j in range(2,i): # checking if the individual number are prime\n",
    "        if (i%j == 0): # checking for divisibilty with the numbers from 2 to itself\n",
    "            break\n",
    "    else:\n",
    "        print(i)"
   ]
  },
  {
   "cell_type": "markdown",
   "metadata": {},
   "source": [
    " Write a program to print the sum of all the digits of a given number.\n",
    "Example:\n",
    "\n",
    "I/P:1234\n",
    "\n",
    "O/P:10"
   ]
  },
  {
   "cell_type": "code",
   "execution_count": 8,
   "metadata": {},
   "outputs": [
    {
     "name": "stdout",
     "output_type": "stream",
     "text": [
      "17\n"
     ]
    }
   ],
   "source": [
    "a = 123434\n",
    "sum = 0\n",
    "while(a>0):\n",
    "    last_digit = a%10\n",
    "    a = a//10\n",
    "    sum = sum + last_digit\n",
    "print(sum)"
   ]
  },
  {
   "cell_type": "markdown",
   "metadata": {},
   "source": [
    "\t\n",
    " Write a program to reverse a given number and print.\n",
    "\n",
    "Example:1\n",
    "\n",
    "I/P: 1234\n",
    "\n",
    "O/P:4321\n",
    "\n",
    "Example:2\n",
    "\n",
    "I/P:1004\n",
    "\n",
    "O/P:4001"
   ]
  },
  {
   "cell_type": "code",
   "execution_count": 9,
   "metadata": {},
   "outputs": [
    {
     "name": "stdout",
     "output_type": "stream",
     "text": [
      "26141\n"
     ]
    }
   ],
   "source": [
    "a = 14162\n",
    "reverse = 0\n",
    "\n",
    "while (a>0):\n",
    "    last_digit = a%10 #gives the last digit of the original number\n",
    "    reverse = reverse*10 + last_digit #gives the reverse number\n",
    "    a = a//10 #eliminates the last digit\n",
    "print(reverse)"
   ]
  },
  {
   "cell_type": "markdown",
   "metadata": {},
   "source": [
    " Write a program to find if the given number is palindrome or not\n",
    "\n",
    "Example:1\n",
    "\n",
    "I/P:110011\n",
    "\n",
    "O/P: 110011 is a palindrome.\n",
    "\n",
    "Example:2\n",
    "\n",
    "I/P:1234\n",
    "\n",
    "O/P: 1234 is not a palindrome."
   ]
  },
  {
   "cell_type": "code",
   "execution_count": 12,
   "metadata": {},
   "outputs": [
    {
     "name": "stdout",
     "output_type": "stream",
     "text": [
      "11011 is a palindrome"
     ]
    }
   ],
   "source": [
    "a = 11011\n",
    "b = a # stored value of a in b as a's value will change due to while loop\n",
    "rev = 0\n",
    "\n",
    "while (a>0):\n",
    "    last_digit = a%10 #gives the last digit of the original number\n",
    "    rev = rev*10 + last_digit #gives the reverse number\n",
    "    a = a//10 #eliminates the last digit\n",
    "\n",
    "if( b == rev):\n",
    "    print(b, end = \" is a palindrome\")\n",
    "else: \n",
    "    print(b, end = ' is not a palindrome')\n",
    "    \n"
   ]
  },
  {
   "cell_type": "code",
   "execution_count": null,
   "metadata": {},
   "outputs": [],
   "source": []
  }
 ],
 "metadata": {
  "kernelspec": {
   "display_name": "Python 3",
   "language": "python",
   "name": "python3"
  },
  "language_info": {
   "codemirror_mode": {
    "name": "ipython",
    "version": 3
   },
   "file_extension": ".py",
   "mimetype": "text/x-python",
   "name": "python",
   "nbconvert_exporter": "python",
   "pygments_lexer": "ipython3",
   "version": "3.7.3"
  }
 },
 "nbformat": 4,
 "nbformat_minor": 2
}
